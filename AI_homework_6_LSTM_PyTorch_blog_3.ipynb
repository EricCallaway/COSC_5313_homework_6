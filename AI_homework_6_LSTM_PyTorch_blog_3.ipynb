{
  "nbformat": 4,
  "nbformat_minor": 0,
  "metadata": {
    "colab": {
      "name": "AI_homework_6_LSTM_PyTorch_blog_3.ipynb",
      "provenance": [],
      "collapsed_sections": [],
      "authorship_tag": "ABX9TyMNUHxISu0It9DkJFjrJIzM",
      "include_colab_link": true
    },
    "kernelspec": {
      "name": "python3",
      "display_name": "Python 3"
    },
    "language_info": {
      "name": "python"
    }
  },
  "cells": [
    {
      "cell_type": "markdown",
      "metadata": {
        "id": "view-in-github",
        "colab_type": "text"
      },
      "source": [
        "<a href=\"https://colab.research.google.com/github/EricCallaway/COSC_5313_homework_6/blob/main/AI_homework_6_LSTM_PyTorch_blog_3.ipynb\" target=\"_parent\"><img src=\"https://colab.research.google.com/assets/colab-badge.svg\" alt=\"Open In Colab\"/></a>"
      ]
    },
    {
      "cell_type": "markdown",
      "source": [
        "Import neccessary libraries"
      ],
      "metadata": {
        "id": "eIOSnDw82SEy"
      }
    },
    {
      "cell_type": "code",
      "source": [
        "#@title Install/Import Libraries { vertical-output: true }\n",
        "\n",
        "def import_install(id: str):\n",
        "  import importlib\n",
        "  try:\n",
        "    re = importlib.import_module(id)\n",
        "    print(f'import {id}')\n",
        "    return re\n",
        "  except ImportError:\n",
        "    !python3 -m pip install --quiet --upgrade {id}\n",
        "    re = importlib.import_module(id)\n",
        "    print(f'install {id}')\n",
        "    return re"
      ],
      "metadata": {
        "id": "6sqDkGUz7_Sm"
      },
      "execution_count": 20,
      "outputs": []
    },
    {
      "cell_type": "code",
      "source": [
        "torch = import_install('torch')\n",
        "nn = torch.nn"
      ],
      "metadata": {
        "colab": {
          "base_uri": "https://localhost:8080/"
        },
        "id": "wnR3C8Zl8BSD",
        "outputId": "989c1fa3-9c5d-46a8-fa04-64c4d467fc04"
      },
      "execution_count": 21,
      "outputs": [
        {
          "output_type": "stream",
          "name": "stdout",
          "text": [
            "import torch\n"
          ]
        }
      ]
    },
    {
      "cell_type": "code",
      "source": [
        "pip install yfinance"
      ],
      "metadata": {
        "colab": {
          "base_uri": "https://localhost:8080/"
        },
        "id": "_YlKARnl2pJW",
        "outputId": "a0e34d16-a183-459d-a9fc-2ea7733dc801"
      },
      "execution_count": 7,
      "outputs": [
        {
          "output_type": "stream",
          "name": "stdout",
          "text": [
            "Looking in indexes: https://pypi.org/simple, https://us-python.pkg.dev/colab-wheels/public/simple/\n",
            "Collecting yfinance\n",
            "  Downloading yfinance-0.1.74-py2.py3-none-any.whl (27 kB)\n",
            "Requirement already satisfied: pandas>=0.24.0 in /usr/local/lib/python3.7/dist-packages (from yfinance) (1.3.5)\n",
            "Requirement already satisfied: multitasking>=0.0.7 in /usr/local/lib/python3.7/dist-packages (from yfinance) (0.0.11)\n",
            "Collecting requests>=2.26\n",
            "  Downloading requests-2.28.1-py3-none-any.whl (62 kB)\n",
            "\u001b[K     |████████████████████████████████| 62 kB 1.1 MB/s \n",
            "\u001b[?25hCollecting lxml>=4.5.1\n",
            "  Downloading lxml-4.9.1-cp37-cp37m-manylinux_2_17_x86_64.manylinux2014_x86_64.manylinux_2_24_x86_64.whl (6.4 MB)\n",
            "\u001b[K     |████████████████████████████████| 6.4 MB 10.9 MB/s \n",
            "\u001b[?25hRequirement already satisfied: numpy>=1.15 in /usr/local/lib/python3.7/dist-packages (from yfinance) (1.21.6)\n",
            "Requirement already satisfied: python-dateutil>=2.7.3 in /usr/local/lib/python3.7/dist-packages (from pandas>=0.24.0->yfinance) (2.8.2)\n",
            "Requirement already satisfied: pytz>=2017.3 in /usr/local/lib/python3.7/dist-packages (from pandas>=0.24.0->yfinance) (2022.1)\n",
            "Requirement already satisfied: six>=1.5 in /usr/local/lib/python3.7/dist-packages (from python-dateutil>=2.7.3->pandas>=0.24.0->yfinance) (1.15.0)\n",
            "Requirement already satisfied: certifi>=2017.4.17 in /usr/local/lib/python3.7/dist-packages (from requests>=2.26->yfinance) (2022.6.15)\n",
            "Requirement already satisfied: charset-normalizer<3,>=2 in /usr/local/lib/python3.7/dist-packages (from requests>=2.26->yfinance) (2.1.0)\n",
            "Requirement already satisfied: idna<4,>=2.5 in /usr/local/lib/python3.7/dist-packages (from requests>=2.26->yfinance) (2.10)\n",
            "Requirement already satisfied: urllib3<1.27,>=1.21.1 in /usr/local/lib/python3.7/dist-packages (from requests>=2.26->yfinance) (1.24.3)\n",
            "Installing collected packages: requests, lxml, yfinance\n",
            "  Attempting uninstall: requests\n",
            "    Found existing installation: requests 2.23.0\n",
            "    Uninstalling requests-2.23.0:\n",
            "      Successfully uninstalled requests-2.23.0\n",
            "  Attempting uninstall: lxml\n",
            "    Found existing installation: lxml 4.2.6\n",
            "    Uninstalling lxml-4.2.6:\n",
            "      Successfully uninstalled lxml-4.2.6\n",
            "\u001b[31mERROR: pip's dependency resolver does not currently take into account all the packages that are installed. This behaviour is the source of the following dependency conflicts.\n",
            "google-colab 1.0.0 requires requests~=2.23.0, but you have requests 2.28.1 which is incompatible.\n",
            "datascience 0.10.6 requires folium==0.2.1, but you have folium 0.8.3 which is incompatible.\u001b[0m\n",
            "Successfully installed lxml-4.9.1 requests-2.28.1 yfinance-0.1.74\n"
          ]
        }
      ]
    },
    {
      "cell_type": "code",
      "execution_count": 38,
      "metadata": {
        "id": "FNXR3jd_18uU"
      },
      "outputs": [],
      "source": [
        "import os\n",
        "import time\n",
        "import datetime\n",
        "import pathlib\n",
        "import seaborn\n",
        "import matplotlib.pyplot as plt\n",
        "import torch\n",
        "import numpy as np\n",
        "import pandas as pd\n",
        "import yfinance as yf\n",
        "import torch as nn"
      ]
    },
    {
      "cell_type": "code",
      "source": [
        "from google.colab import drive\n",
        "drive.mount('/content/drive', force_remount=False)"
      ],
      "metadata": {
        "colab": {
          "base_uri": "https://localhost:8080/"
        },
        "id": "FUIRmiCACGRX",
        "outputId": "b1bdca5e-4c20-4436-e509-df8d51b83c2d"
      },
      "execution_count": 13,
      "outputs": [
        {
          "output_type": "stream",
          "name": "stdout",
          "text": [
            "Mounted at /content/drive\n"
          ]
        }
      ]
    },
    {
      "cell_type": "code",
      "source": [
        "#@title Get Stock Data { vertical-output: true }\n",
        "run = True #@param {type:\"boolean\"}\n",
        "cache_path = \"./data.csv\" #@param {type:\"string\"}\n",
        "ticker = \"TSLA\" #@param {type:\"string\"}\n",
        "period = \"1y\" #@param {type:\"string\"}\n",
        "interval = \"1h\" #@param {type:\"string\"}\n",
        "auto_adjust = True #@param {type:\"boolean\"}\n",
        "prepost = True #@param {type:\"boolean\"}\n",
        "threads = 0 #@param {type:\"integer\"}"
      ],
      "metadata": {
        "id": "x2ecCLcj3P4M"
      },
      "execution_count": 14,
      "outputs": []
    },
    {
      "cell_type": "code",
      "source": [
        "\n",
        "if threads == 0:\n",
        "  threads = False\n",
        "proxy = \"\" #@param {type:\"string\"}\n",
        "if proxy == \"\":\n",
        "  proxy = None\n",
        "if run:\n",
        "  df = yf.download(\n",
        "      ticker\n",
        "      )\n",
        "  df.to_csv(cache_path)\n",
        "  df = pd.read_csv(cache_path)\n",
        "  # ensure consistency beyween run = True and False\n",
        "  print('successfully fetched data from yfinance & saved to cache')\n",
        "else:\n",
        "  df = pd.read_csv(cache_path)\n",
        "  print('successfully fetched data from cache')\n",
        "df = df.dropna()\n",
        "df['Average'] = df[['High', 'Low']].mean(axis=1)\n",
        "df['Date'] = pd.to_datetime(df['Date'])\n",
        "df['DateNum'] = df['Date'].values.astype(np.int64) // 10 ** 9\n",
        "print('successfully added columns: Average, DateNum')"
      ],
      "metadata": {
        "colab": {
          "base_uri": "https://localhost:8080/"
        },
        "id": "mrwCIfgf21b5",
        "outputId": "19ebbae9-635c-4d9e-cadf-aa3b63f0c82e"
      },
      "execution_count": 15,
      "outputs": [
        {
          "output_type": "stream",
          "name": "stdout",
          "text": [
            "\r[*********************100%***********************]  1 of 1 completed\n",
            "successfully fetched data from yfinance & saved to cache\n",
            "successfully added columns: Average, DateNum\n"
          ]
        }
      ]
    },
    {
      "cell_type": "code",
      "source": [
        "#@title Graph Data { run: \"auto\", vertical-output: true }\n",
        "dep_cols = ['Average'] #@param {type:\"raw\"}\n",
        "indep_col = 'Date' #@param {type:\"string\"}\n",
        "start = 0 #@param {type:\"integer\"}\n",
        "stop =  -1#@param {type:\"integer\"}\n",
        "step =  20#@param {type:\"integer\"}\n",
        "plot_features = df[dep_cols]\n",
        "plot_features.index = df[indep_col]\n",
        "_ = plot_features.plot(subplots=True)\n",
        "plot_features = df[dep_cols][start:stop:step]\n",
        "plot_features.index = df[indep_col][start:stop:step]\n",
        "_ = plot_features.plot(subplots=True)"
      ],
      "metadata": {
        "colab": {
          "base_uri": "https://localhost:8080/",
          "height": 521
        },
        "id": "0OVVqIG25j9E",
        "outputId": "b7b4cf60-f0b4-48d2-d655-2a69403c5c42"
      },
      "execution_count": 16,
      "outputs": [
        {
          "output_type": "display_data",
          "data": {
            "text/plain": [
              "<Figure size 432x288 with 1 Axes>"
            ],
            "image/png": "[encoded data removed]"
          },
          "metadata": {
            "needs_background": "light"
          }
        },
        {
          "output_type": "display_data",
          "data": {
            "text/plain": [
              "<Figure size 432x288 with 1 Axes>"
            ],
            "image/png": "[encoded data removed]"
          },
          "metadata": {
            "needs_background": "light"
          }
        }
      ]
    },
    {
      "cell_type": "code",
      "source": [
        "#@title Split & Normalize Data\n",
        "\n",
        "train = 0.7 #@param {type:\"number\"}\n",
        "val = 0.2 #@param {type:\"number\"}\n",
        "test = 0.1 #@param {type:\"number\"}\n",
        "\n",
        "normalize = True #@param {type:\"boolean\"}\n",
        "\n",
        "dep_cols =  ['Average'] #@param {type:\"raw\"}\n",
        "indep_cols = ['DateNum'] #@param {type:\"raw\"}\n",
        "\n",
        "def without(d, *keys):\n",
        "    new_d = d.copy()\n",
        "    for key in keys:\n",
        "      new_d.pop(key)\n",
        "    return new_d\n",
        "\n",
        "del_cols = list(df.columns) # columns to be removed\n",
        "for dep_col in dep_cols:\n",
        "  del_cols.pop(del_cols.index(dep_col))\n",
        "for indep_col in indep_cols:\n",
        "  del_cols.pop(del_cols.index(indep_col))\n",
        "df_only = without(df, *del_cols)\n",
        "avg_data = df_only['Average'].values.astype(float)\n",
        "\n",
        "l = len(avg_data)\n",
        "train_data = avg_data[0:int(l*train)]\n",
        "val_data = avg_data[int(l*train):int(l*(train+val))]\n",
        "test_data = avg_data[int(l*(train+val)):]\n",
        "\n",
        "mean = avg_data.mean()\n",
        "std = avg_data.std()\n",
        "\n",
        "if normalize:\n",
        "  train_data = (train_data - mean) / std\n",
        "  val_data = (val_data - mean) / std\n",
        "  test_data = (test_data - mean) / std\n",
        "  # num_data = (num_data - mean) / std\n",
        "  # train_df = (train_df - train_mean) / train_std\n",
        "  # val_df = (val_df - train_mean) / train_std\n",
        "  # test_df = (test_df - train_mean) / train_std\n",
        "\n",
        "print(f'train:\\t{len(train_data)}')\n",
        "print(f'val:\\t{len(val_data)}')\n",
        "print(f'test:\\t{len(test_data)}')"
      ],
      "metadata": {
        "colab": {
          "base_uri": "https://localhost:8080/"
        },
        "id": "0duB6uP45sbe",
        "outputId": "a1a00b57-c88d-4304-c194-d9a8c8708813"
      },
      "execution_count": 17,
      "outputs": [
        {
          "output_type": "stream",
          "name": "stdout",
          "text": [
            "train:\t2126\n",
            "val:\t608\n",
            "test:\t304\n"
          ]
        }
      ]
    },
    {
      "cell_type": "code",
      "source": [
        "#@title Convert Data to Tensors\n",
        "\n",
        "def create_inout_sequences(input_data, tw):\n",
        "  inout_seq = []\n",
        "  for i in range(len(input_data)-tw):\n",
        "    train_seq = input_data[i:i+tw]\n",
        "    train_label = input_data[i+tw:i+tw+1]\n",
        "    inout_seq.append((train_seq ,train_label))\n",
        "  return inout_seq\n",
        "\n",
        "raw_train_data = train_data\n",
        "train_data = torch.FloatTensor(train_data).view(-1)\n",
        "train_window = 12\n",
        "\n",
        "raw_val_data = val_data\n",
        "val_data = torch.FloatTensor(val_data).view(-1)\n",
        "\n",
        "raw_test_data = test_data\n",
        "test_data = torch.FloatTensor(test_data).view(-1)\n",
        "\n",
        "train_inout_seq = create_inout_sequences(train_data, train_window)\n",
        "\n",
        "print(train_inout_seq[:5])"
      ],
      "metadata": {
        "colab": {
          "base_uri": "https://localhost:8080/"
        },
        "id": "1Rw80kgo7Xu7",
        "outputId": "2b0bbd62-6c97-435f-ec7f-1a330fa6a548"
      },
      "execution_count": 18,
      "outputs": [
        {
          "output_type": "stream",
          "name": "stdout",
          "text": [
            "[(tensor([-0.5635, -0.5594, -0.5622, -0.5638, -0.5660, -0.5675, -0.5670, -0.5665,\n",
            "        -0.5663, -0.5661, -0.5652, -0.5643]), tensor([-0.5639])), (tensor([-0.5594, -0.5622, -0.5638, -0.5660, -0.5675, -0.5670, -0.5665, -0.5663,\n",
            "        -0.5661, -0.5652, -0.5643, -0.5639]), tensor([-0.5633])), (tensor([-0.5622, -0.5638, -0.5660, -0.5675, -0.5670, -0.5665, -0.5663, -0.5661,\n",
            "        -0.5652, -0.5643, -0.5639, -0.5633]), tensor([-0.5637])), (tensor([-0.5638, -0.5660, -0.5675, -0.5670, -0.5665, -0.5663, -0.5661, -0.5652,\n",
            "        -0.5643, -0.5639, -0.5633, -0.5637]), tensor([-0.5643])), (tensor([-0.5660, -0.5675, -0.5670, -0.5665, -0.5663, -0.5661, -0.5652, -0.5643,\n",
            "        -0.5639, -0.5633, -0.5637, -0.5643]), tensor([-0.5638]))]\n"
          ]
        }
      ]
    },
    {
      "cell_type": "code",
      "source": [
        "#@title Make Model { vertical-output: true }\n",
        "\n",
        "#@markdown Model:\n",
        "#@markdown ```\n",
        "#@markdown LSTM(\n",
        "#@markdown   (lstm): LSTM(1, 100)\n",
        "#@markdown   (linear): Linear(in_features=100, out_features=1, bias=True)\n",
        "#@markdown )\n",
        "#@markdown ```\n",
        "\n",
        "# class LSTM(torch.nn.Module):\n",
        "#   def __init__(self, input_size=1, hidden_layer_size=100, output_size=1):\n",
        "#       super().__init__()\n",
        "#       self.hidden_layer_size = hidden_layer_size\n",
        "\n",
        "#       self.lstm = nn.LSTM(input_size, hidden_layer_size)\n",
        "\n",
        "#       self.linear = nn.Linear(hidden_layer_size, output_size)\n",
        "\n",
        "#       self.hidden_cell = (torch.zeros(1,1,self.hidden_layer_size),\n",
        "#                           torch.zeros(1,1,self.hidden_layer_size))\n",
        "\n",
        "#   def forward(self, input_seq):\n",
        "#       lstm_out, self.hidden_cell = self.lstm(input_seq.view(len(input_seq) ,1, -1), self.hidden_cell)\n",
        "#       predictions = self.linear(lstm_out.view(len(input_seq), -1))\n",
        "#       return predictions[-1]"
      ],
      "metadata": {
        "id": "QBENgFA87ghV"
      },
      "execution_count": 71,
      "outputs": []
    },
    {
      "cell_type": "code",
      "source": [
        "#@title Predict & Plot Predicted Data { vertical-output: true }\n",
        "test_inputs = test_data[-train_window:].tolist()\n",
        "\n",
        "model = torch.nn.LSTM(1,100)\n",
        "x = torch.rand(64, 3, 1)\n",
        "z = x.mean(1, keepdim=True)\n",
        "model.eval()\n",
        "\n",
        "plt.title('Predicted Data: Time v Price (all)')\n",
        "plt.xlabel('Time')\n",
        "plt.ylabel('Price')\n",
        "plt.grid(True)\n",
        "plt.autoscale(axis='x', tight=True)\n",
        "plt.plot(test_data * std + mean)\n",
        "x = np.arange(len(test_data)-train_window-1, len(test_data)-1, 1)\n",
        "plt.show()\n",
        "\n",
        "plt.title('Predicted Data: Time v Price (predicted)')\n",
        "plt.xlabel('Time')\n",
        "plt.ylabel('Price')\n",
        "plt.grid(True)\n",
        "plt.autoscale(axis='x', tight=True)\n",
        "plt.plot(test_data[-train_window:] * std + mean)\n",
        "x = np.arange(0, train_window, 1)\n",
        "plt.show()"
      ],
      "metadata": {
        "colab": {
          "base_uri": "https://localhost:8080/",
          "height": 573
        },
        "id": "AKTUd8_HM5Dc",
        "outputId": "505d466c-96e4-4254-c833-502fa31b34d9"
      },
      "execution_count": 87,
      "outputs": [
        {
          "output_type": "display_data",
          "data": {
            "text/plain": [
              "<Figure size 432x288 with 1 Axes>"
            ],
            "image/png": "[encoded data removed]"
          },
          "metadata": {
            "needs_background": "light"
          }
        },
        {
          "output_type": "display_data",
          "data": {
            "text/plain": [
              "<Figure size 432x288 with 1 Axes>"
            ],
            "image/png": "[encoded data removed]"
          },
          "metadata": {
            "needs_background": "light"
          }
        }
      ]
    }
  ]
}