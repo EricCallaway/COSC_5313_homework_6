{
  "nbformat": 4,
  "nbformat_minor": 0,
  "metadata": {
    "colab": {
      "name": "AI_homework_6_GAN_blog_4_firstGAN.ipynb",
      "provenance": [],
      "authorship_tag": "ABX9TyPCHxuFfLL/6+qnKiXKeaxU",
      "include_colab_link": true
    },
    "kernelspec": {
      "name": "python3",
      "display_name": "Python 3"
    },
    "language_info": {
      "name": "python"
    }
  },
  "cells": [
    {
      "cell_type": "markdown",
      "metadata": {
        "id": "view-in-github",
        "colab_type": "text"
      },
      "source": [
        "<a href=\"https://colab.research.google.com/github/EricCallaway/COSC_5313_homework_6/blob/main/AI_homework_6_GAN_blog_4_firstGAN.ipynb\" target=\"_parent\"><img src=\"https://colab.research.google.com/assets/colab-badge.svg\" alt=\"Open In Colab\"/></a>"
      ]
    },
    {
      "cell_type": "markdown",
      "source": [
        "Import necessary libraries"
      ],
      "metadata": {
        "id": "2-nA0PG_3qQd"
      }
    },
    {
      "cell_type": "code",
      "execution_count": 3,
      "metadata": {
        "id": "EfBgE1M528l3"
      },
      "outputs": [],
      "source": [
        "import torch\n",
        "from torch import nn\n",
        "\n",
        "import math\n",
        "import matplotlib.pyplot as plt"
      ]
    },
    {
      "cell_type": "markdown",
      "source": [
        "Random Seed generator to replicate results"
      ],
      "metadata": {
        "id": "96BrS1KC3s1p"
      }
    },
    {
      "cell_type": "code",
      "source": [
        "torch.manual_seed(1337)"
      ],
      "metadata": {
        "colab": {
          "base_uri": "https://localhost:8080/"
        },
        "id": "dR9p8vjJ3pE9",
        "outputId": "ac0d48e7-3cab-47d0-a496-2a8961be889c"
      },
      "execution_count": 5,
      "outputs": [
        {
          "output_type": "execute_result",
          "data": {
            "text/plain": [
              "<torch._C.Generator at 0x7f3bb5d579b0>"
            ]
          },
          "metadata": {},
          "execution_count": 5
        }
      ]
    },
    {
      "cell_type": "markdown",
      "source": [
        "Preparing Data"
      ],
      "metadata": {
        "id": "ETrKRMMz4Hw9"
      }
    },
    {
      "cell_type": "code",
      "source": [
        "train_data_length = 1024\n",
        "train_data = torch.zeros((train_data_length, 2))\n",
        "train_data[:, 0] = 2 * math.pi * torch.rand(train_data_length)\n",
        "train_data[:, 1] = torch.sin(train_data[:, 0])\n",
        "train_labels = torch.zeros(train_data_length)\n",
        "train_set = [\n",
        "    (train_data[i], train_labels[i]) for i in range(train_data_length)\n",
        "]"
      ],
      "metadata": {
        "id": "r6WK2g684Lo5"
      },
      "execution_count": 6,
      "outputs": []
    },
    {
      "cell_type": "code",
      "source": [
        "plt.plot(train_data[:, 0], train_data[:, 1], \".\")"
      ],
      "metadata": {
        "colab": {
          "base_uri": "https://localhost:8080/",
          "height": 283
        },
        "id": "RxfY7UIT45uL",
        "outputId": "c2225356-bd46-4e22-fc04-59e1aefe1c83"
      },
      "execution_count": 7,
      "outputs": [
        {
          "output_type": "execute_result",
          "data": {
            "text/plain": [
              "[<matplotlib.lines.Line2D at 0x7f3bb4dde210>]"
            ]
          },
          "metadata": {},
          "execution_count": 7
        },
        {
          "output_type": "display_data",
          "data": {
            "text/plain": [
              "<Figure size 432x288 with 1 Axes>"
            ],
            "image/png": "[encoded data removed]"
          },
          "metadata": {
            "needs_background": "light"
          }
        }
      ]
    },
    {
      "cell_type": "markdown",
      "source": [
        "Creating a data loader"
      ],
      "metadata": {
        "id": "iP3IFzXZ49cJ"
      }
    },
    {
      "cell_type": "code",
      "source": [
        "batch_size = 32\n",
        "train_loader = torch.utils.data.DataLoader(\n",
        "    train_set, batch_size=batch_size, shuffle=True\n",
        ")"
      ],
      "metadata": {
        "id": "ROmhJdas4_ia"
      },
      "execution_count": 8,
      "outputs": []
    },
    {
      "cell_type": "markdown",
      "source": [
        "Implementing the Discriminator"
      ],
      "metadata": {
        "id": "LDahSexb5OZC"
      }
    },
    {
      "cell_type": "code",
      "source": [
        "class Discriminator(nn.Module):\n",
        "    def __init__(self):\n",
        "        super().__init__()\n",
        "        self.model = nn.Sequential(\n",
        "            nn.Linear(2, 256),\n",
        "            nn.ReLU(),\n",
        "            nn.Dropout(0.3),\n",
        "            nn.Linear(256, 128),\n",
        "            nn.ReLU(),\n",
        "            nn.Dropout(0.3),\n",
        "            nn.Linear(128, 64),\n",
        "            nn.ReLU(),\n",
        "            nn.Dropout(0.3),\n",
        "            nn.Linear(64, 1),\n",
        "            nn.Sigmoid(),\n",
        "        )\n",
        "\n",
        "    def forward(self, x):\n",
        "        output = self.model(x)\n",
        "        return output"
      ],
      "metadata": {
        "id": "VbF4TpNm5QuU"
      },
      "execution_count": 9,
      "outputs": []
    },
    {
      "cell_type": "code",
      "source": [
        "discriminator = Discriminator()"
      ],
      "metadata": {
        "id": "E-0ePMIz5qnj"
      },
      "execution_count": 10,
      "outputs": []
    },
    {
      "cell_type": "markdown",
      "source": [
        "Implementing Generator"
      ],
      "metadata": {
        "id": "qK_WwtAG54Hy"
      }
    },
    {
      "cell_type": "code",
      "source": [
        "class Generator(nn.Module):\n",
        "    def __init__(self):\n",
        "        super().__init__()\n",
        "        self.model = nn.Sequential(\n",
        "            nn.Linear(2, 16),\n",
        "            nn.ReLU(),\n",
        "            nn.Linear(16, 32),\n",
        "            nn.ReLU(),\n",
        "            nn.Linear(32, 2),\n",
        "        )\n",
        "\n",
        "    def forward(self, x):\n",
        "        output = self.model(x)\n",
        "        return output\n",
        "\n",
        "generator = Generator()"
      ],
      "metadata": {
        "id": "ei00M5M_55v6"
      },
      "execution_count": 11,
      "outputs": []
    },
    {
      "cell_type": "markdown",
      "source": [
        "Train the Models"
      ],
      "metadata": {
        "id": "4viHgVcj6DLm"
      }
    },
    {
      "cell_type": "code",
      "source": [
        "lr = 0.001\n",
        "num_epochs = 300\n",
        "loss_function = nn.BCELoss()"
      ],
      "metadata": {
        "id": "yymmCZ_D6FzK"
      },
      "execution_count": 12,
      "outputs": []
    },
    {
      "cell_type": "code",
      "source": [
        "optimizer_discriminator = torch.optim.Adam(discriminator.parameters(), lr=lr)\n",
        "optimizer_generator = torch.optim.Adam(generator.parameters(), lr=lr)"
      ],
      "metadata": {
        "id": "6v-_gQqN6JEr"
      },
      "execution_count": 13,
      "outputs": []
    },
    {
      "cell_type": "code",
      "source": [
        "for epoch in range(num_epochs):\n",
        "    for n, (real_samples, _) in enumerate(train_loader):\n",
        "        # Data for training the discriminator\n",
        "        real_samples_labels = torch.ones((batch_size, 1))\n",
        "        latent_space_samples = torch.randn((batch_size, 2))\n",
        "        generated_samples = generator(latent_space_samples)\n",
        "        generated_samples_labels = torch.zeros((batch_size, 1))\n",
        "        all_samples = torch.cat((real_samples, generated_samples))\n",
        "        all_samples_labels = torch.cat(\n",
        "            (real_samples_labels, generated_samples_labels)\n",
        "        )\n",
        "\n",
        "        # Training the discriminator\n",
        "        discriminator.zero_grad()\n",
        "        output_discriminator = discriminator(all_samples)\n",
        "        loss_discriminator = loss_function(\n",
        "            output_discriminator, all_samples_labels)\n",
        "        loss_discriminator.backward()\n",
        "        optimizer_discriminator.step()\n",
        "\n",
        "        # Data for training the generator\n",
        "        latent_space_samples = torch.randn((batch_size, 2))\n",
        "\n",
        "        # Training the generator\n",
        "        generator.zero_grad()\n",
        "        generated_samples = generator(latent_space_samples)\n",
        "        output_discriminator_generated = discriminator(generated_samples)\n",
        "        loss_generator = loss_function(\n",
        "            output_discriminator_generated, real_samples_labels\n",
        "        )\n",
        "        loss_generator.backward()\n",
        "        optimizer_generator.step()\n",
        "\n",
        "        # Show loss\n",
        "        if epoch % 10 == 0 and n == batch_size - 1:\n",
        "            print(f\"Epoch: {epoch} Loss Discriminator.: {loss_discriminator}\")\n",
        "            print(f\"Epoch: {epoch} Loss Generator.: {loss_generator}\")\n",
        "            print('-'*100)"
      ],
      "metadata": {
        "colab": {
          "base_uri": "https://localhost:8080/"
        },
        "id": "cKI0uxWN6NxA",
        "outputId": "264f16ff-e665-4fbf-8b61-1a9ddf0d0b9d"
      },
      "execution_count": 15,
      "outputs": [
        {
          "output_type": "stream",
          "name": "stdout",
          "text": [
            "Epoch: 0 Loss Discriminator.: 0.746151864528656\n",
            "Epoch: 0 Loss Generator.: 0.7215326428413391\n",
            "----------------------------------------------------------------------------------------------------\n",
            "Epoch: 10 Loss Discriminator.: 0.5797874927520752\n",
            "Epoch: 10 Loss Generator.: 1.0234901905059814\n",
            "----------------------------------------------------------------------------------------------------\n",
            "Epoch: 20 Loss Discriminator.: 0.680560290813446\n",
            "Epoch: 20 Loss Generator.: 0.8134245872497559\n",
            "----------------------------------------------------------------------------------------------------\n",
            "Epoch: 30 Loss Discriminator.: 0.7200827598571777\n",
            "Epoch: 30 Loss Generator.: 0.7732768058776855\n",
            "----------------------------------------------------------------------------------------------------\n",
            "Epoch: 40 Loss Discriminator.: 0.6218294501304626\n",
            "Epoch: 40 Loss Generator.: 0.7611435651779175\n",
            "----------------------------------------------------------------------------------------------------\n",
            "Epoch: 50 Loss Discriminator.: 0.6622547507286072\n",
            "Epoch: 50 Loss Generator.: 0.8271716833114624\n",
            "----------------------------------------------------------------------------------------------------\n",
            "Epoch: 60 Loss Discriminator.: 0.6938489079475403\n",
            "Epoch: 60 Loss Generator.: 0.7829457521438599\n",
            "----------------------------------------------------------------------------------------------------\n",
            "Epoch: 70 Loss Discriminator.: 0.5941810011863708\n",
            "Epoch: 70 Loss Generator.: 1.005628228187561\n",
            "----------------------------------------------------------------------------------------------------\n",
            "Epoch: 80 Loss Discriminator.: 0.69980788230896\n",
            "Epoch: 80 Loss Generator.: 0.7739375233650208\n",
            "----------------------------------------------------------------------------------------------------\n",
            "Epoch: 90 Loss Discriminator.: 0.6384763717651367\n",
            "Epoch: 90 Loss Generator.: 1.0140794515609741\n",
            "----------------------------------------------------------------------------------------------------\n",
            "Epoch: 100 Loss Discriminator.: 0.6947529315948486\n",
            "Epoch: 100 Loss Generator.: 0.709606409072876\n",
            "----------------------------------------------------------------------------------------------------\n",
            "Epoch: 110 Loss Discriminator.: 0.6579918265342712\n",
            "Epoch: 110 Loss Generator.: 0.8320251703262329\n",
            "----------------------------------------------------------------------------------------------------\n",
            "Epoch: 120 Loss Discriminator.: 0.7131392955780029\n",
            "Epoch: 120 Loss Generator.: 0.7303169965744019\n",
            "----------------------------------------------------------------------------------------------------\n",
            "Epoch: 130 Loss Discriminator.: 0.6934229135513306\n",
            "Epoch: 130 Loss Generator.: 0.7054668664932251\n",
            "----------------------------------------------------------------------------------------------------\n",
            "Epoch: 140 Loss Discriminator.: 0.6291269659996033\n",
            "Epoch: 140 Loss Generator.: 0.720903754234314\n",
            "----------------------------------------------------------------------------------------------------\n",
            "Epoch: 150 Loss Discriminator.: 0.6482611298561096\n",
            "Epoch: 150 Loss Generator.: 0.9840664863586426\n",
            "----------------------------------------------------------------------------------------------------\n",
            "Epoch: 160 Loss Discriminator.: 0.6961468458175659\n",
            "Epoch: 160 Loss Generator.: 0.7505884170532227\n",
            "----------------------------------------------------------------------------------------------------\n",
            "Epoch: 170 Loss Discriminator.: 0.6701067686080933\n",
            "Epoch: 170 Loss Generator.: 0.929568886756897\n",
            "----------------------------------------------------------------------------------------------------\n",
            "Epoch: 180 Loss Discriminator.: 0.6861220002174377\n",
            "Epoch: 180 Loss Generator.: 0.7036057114601135\n",
            "----------------------------------------------------------------------------------------------------\n",
            "Epoch: 190 Loss Discriminator.: 0.6504253149032593\n",
            "Epoch: 190 Loss Generator.: 0.8647251725196838\n",
            "----------------------------------------------------------------------------------------------------\n",
            "Epoch: 200 Loss Discriminator.: 0.6988065242767334\n",
            "Epoch: 200 Loss Generator.: 0.8437395095825195\n",
            "----------------------------------------------------------------------------------------------------\n",
            "Epoch: 210 Loss Discriminator.: 0.6435061097145081\n",
            "Epoch: 210 Loss Generator.: 0.9517393112182617\n",
            "----------------------------------------------------------------------------------------------------\n",
            "Epoch: 220 Loss Discriminator.: 0.6706270575523376\n",
            "Epoch: 220 Loss Generator.: 1.0134341716766357\n",
            "----------------------------------------------------------------------------------------------------\n",
            "Epoch: 230 Loss Discriminator.: 0.6023887991905212\n",
            "Epoch: 230 Loss Generator.: 0.8064671158790588\n",
            "----------------------------------------------------------------------------------------------------\n",
            "Epoch: 240 Loss Discriminator.: 0.6090492010116577\n",
            "Epoch: 240 Loss Generator.: 0.87629634141922\n",
            "----------------------------------------------------------------------------------------------------\n",
            "Epoch: 250 Loss Discriminator.: 0.5964788198471069\n",
            "Epoch: 250 Loss Generator.: 0.9939253926277161\n",
            "----------------------------------------------------------------------------------------------------\n",
            "Epoch: 260 Loss Discriminator.: 0.6852103471755981\n",
            "Epoch: 260 Loss Generator.: 0.813845157623291\n",
            "----------------------------------------------------------------------------------------------------\n",
            "Epoch: 270 Loss Discriminator.: 0.6433604955673218\n",
            "Epoch: 270 Loss Generator.: 0.7603657245635986\n",
            "----------------------------------------------------------------------------------------------------\n",
            "Epoch: 280 Loss Discriminator.: 0.6766640543937683\n",
            "Epoch: 280 Loss Generator.: 0.8265128135681152\n",
            "----------------------------------------------------------------------------------------------------\n",
            "Epoch: 290 Loss Discriminator.: 0.6355931758880615\n",
            "Epoch: 290 Loss Generator.: 0.705011248588562\n",
            "----------------------------------------------------------------------------------------------------\n"
          ]
        }
      ]
    },
    {
      "cell_type": "code",
      "source": [
        "latent_space_samples = torch.randn(100, 2)\n",
        "generated_samples = generator(latent_space_samples)"
      ],
      "metadata": {
        "id": "FGS09ZDR6fHO"
      },
      "execution_count": 16,
      "outputs": []
    },
    {
      "cell_type": "code",
      "source": [
        "generated_samples = generated_samples.detach()\n",
        "plt.plot(generated_samples[:, 0], generated_samples[:, 1], \".\")"
      ],
      "metadata": {
        "colab": {
          "base_uri": "https://localhost:8080/",
          "height": 283
        },
        "id": "g880nR8l6tks",
        "outputId": "cddfa960-a1e9-4a0e-e063-00587e20241d"
      },
      "execution_count": 17,
      "outputs": [
        {
          "output_type": "execute_result",
          "data": {
            "text/plain": [
              "[<matplotlib.lines.Line2D at 0x7f3bb46858d0>]"
            ]
          },
          "metadata": {},
          "execution_count": 17
        },
        {
          "output_type": "display_data",
          "data": {
            "text/plain": [
              "<Figure size 432x288 with 1 Axes>"
            ],
            "image/png": "[encoded data removed]"
          },
          "metadata": {
            "needs_background": "light"
          }
        }
      ]
    }
  ]
}